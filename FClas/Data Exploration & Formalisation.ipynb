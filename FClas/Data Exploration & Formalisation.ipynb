{
 "cells": [
  {
   "cell_type": "markdown",
   "metadata": {},
   "source": [
    "# HMIN339 : Méthodes Avncées de la Science de données\n",
    "\n",
    "\n",
    "## **`Réconnaissance Visuelle de Plantes`**\n",
    "\n",
    "### Object du Project :\n",
    "Réconnaissance d'espèces de plantes à partir de photos\n",
    "\n",
    "### Jeu de Départ : \n",
    "3474 images appartenant à 50 espèces différentes\n",
    "\n",
    "### Encadrement :\n",
    "* **`Konstantin TODOROV`**\n",
    "* **`Pascal PONCELET`**\n",
    " \n",
    "### Fait par :\n",
    "* **`BEYA NTUMBA Joel`**\n",
    "* **`MINKO AMOA Dareine`**\n",
    "* **`QUENETTE Christophe`**\n",
    "* **`SHAQURA Tasnim`**"
   ]
  },
  {
   "cell_type": "code",
   "execution_count": 1,
   "metadata": {},
   "outputs": [],
   "source": [
    "import os\n",
    "import glob\n",
    "import json\n",
    "import csv\n",
    "import numpy as np\n",
    "from cv2 import cv2 \n",
    "import numpy as np \n",
    "import pandas as pd\n",
    "import xml.etree.ElementTree as et\n",
    "import matplotlib.pyplot as plt\n",
    "import matplotlib.image as mpimg\n",
    "from skimage.feature import hog\n",
    "from skimage import data, exposure\n",
    "from PIL import Image"
   ]
  },
  {
   "cell_type": "markdown",
   "metadata": {},
   "source": [
    "## Step 1 : Preprocessing\n",
    "\n",
    "**Dataset's creation**\n",
    "\n",
    "#### ***XML file's conversion to one CSV***"
   ]
  },
  {
   "cell_type": "code",
   "execution_count": 2,
   "metadata": {},
   "outputs": [
    {
     "name": "stdout",
     "output_type": "stream",
     "text": [
      "Successfully converted xml to csv.\n"
     ]
    }
   ],
   "source": [
    "def xml_to_csv(path):\n",
    "    xml_list = []\n",
    "    for xml_file in glob.glob(path + '/*.xml'):\n",
    "        tree = et.parse(xml_file)\n",
    "        root = tree.getroot()\n",
    "        value = (int(root.find('ObservationId').text),\n",
    "                 int(root.find('MediaId').text),\n",
    "                 float(root.find('Vote').text),\n",
    "                 root.find('Content').text,\n",
    "                 int(root.find('ClassId').text),\n",
    "                 root.find('Family').text,\n",
    "                 root.find('Genus').text,\n",
    "                 root.find('Species').text,\n",
    "                 root.find('Location').text,\n",
    "                 root.find('Date').text\n",
    "                 )\n",
    "        xml_list.append(value)\n",
    "    column_name = ['ObservationId', 'MediaId', 'Vote', 'Content', 'ClassId', 'Family', 'Genus', 'Species','Location','Date']\n",
    "    xml_df = pd.DataFrame(xml_list, columns=column_name)\n",
    "    return xml_df\n",
    "\n",
    "\n",
    "def main():\n",
    "    image_path = os.path.join(os.getcwd(), 'small_dataset_train/train')\n",
    "    xml_df = xml_to_csv(image_path)\n",
    "    xml_df.to_csv('Flowers.csv', index=None)\n",
    "    print('Successfully converted xml to csv.')\n",
    "\n",
    "\n",
    "main()"
   ]
  },
  {
   "cell_type": "code",
   "execution_count": 3,
   "metadata": {},
   "outputs": [
    {
     "data": {
      "text/html": [
       "<div>\n",
       "<style scoped>\n",
       "    .dataframe tbody tr th:only-of-type {\n",
       "        vertical-align: middle;\n",
       "    }\n",
       "\n",
       "    .dataframe tbody tr th {\n",
       "        vertical-align: top;\n",
       "    }\n",
       "\n",
       "    .dataframe thead th {\n",
       "        text-align: right;\n",
       "    }\n",
       "</style>\n",
       "<table border=\"1\" class=\"dataframe\">\n",
       "  <thead>\n",
       "    <tr style=\"text-align: right;\">\n",
       "      <th></th>\n",
       "      <th>ObservationId</th>\n",
       "      <th>MediaId</th>\n",
       "      <th>Vote</th>\n",
       "      <th>Content</th>\n",
       "      <th>ClassId</th>\n",
       "      <th>Family</th>\n",
       "      <th>Genus</th>\n",
       "      <th>Species</th>\n",
       "      <th>Location</th>\n",
       "      <th>Date</th>\n",
       "    </tr>\n",
       "  </thead>\n",
       "  <tbody>\n",
       "    <tr>\n",
       "      <th>397</th>\n",
       "      <td>3087</td>\n",
       "      <td>23</td>\n",
       "      <td>2.0</td>\n",
       "      <td>Flower</td>\n",
       "      <td>5148</td>\n",
       "      <td>Salicaceae</td>\n",
       "      <td>Salix</td>\n",
       "      <td>Salix caprea L.</td>\n",
       "      <td>Champ-sur-Drac</td>\n",
       "      <td>2006-3-10</td>\n",
       "    </tr>\n",
       "    <tr>\n",
       "      <th>1108</th>\n",
       "      <td>664</td>\n",
       "      <td>133</td>\n",
       "      <td>4.0</td>\n",
       "      <td>Flower</td>\n",
       "      <td>576</td>\n",
       "      <td>Asteraceae</td>\n",
       "      <td>Cyanus</td>\n",
       "      <td>Cyanus segetum Hill</td>\n",
       "      <td>Paris</td>\n",
       "      <td>2013-6-28</td>\n",
       "    </tr>\n",
       "    <tr>\n",
       "      <th>3447</th>\n",
       "      <td>33480</td>\n",
       "      <td>177</td>\n",
       "      <td>3.0</td>\n",
       "      <td>Flower</td>\n",
       "      <td>30471</td>\n",
       "      <td>Orchidaceae</td>\n",
       "      <td>Ophrys</td>\n",
       "      <td>Ophrys scolopax Cav.</td>\n",
       "      <td>Lauret</td>\n",
       "      <td>2009-5-20</td>\n",
       "    </tr>\n",
       "    <tr>\n",
       "      <th>1440</th>\n",
       "      <td>4130</td>\n",
       "      <td>194</td>\n",
       "      <td>4.0</td>\n",
       "      <td>Flower</td>\n",
       "      <td>1047</td>\n",
       "      <td>Asteraceae</td>\n",
       "      <td>Leucanthemum</td>\n",
       "      <td>Leucanthemum vulgare Lam.</td>\n",
       "      <td>NaN</td>\n",
       "      <td>2013-6-27</td>\n",
       "    </tr>\n",
       "    <tr>\n",
       "      <th>476</th>\n",
       "      <td>5260</td>\n",
       "      <td>281</td>\n",
       "      <td>4.0</td>\n",
       "      <td>Flower</td>\n",
       "      <td>8600</td>\n",
       "      <td>Orchidaceae</td>\n",
       "      <td>Anacamptis</td>\n",
       "      <td>Anacamptis pyramidalis (L.) Rich.</td>\n",
       "      <td>La Tour-sur-Orb</td>\n",
       "      <td>2013-5-21</td>\n",
       "    </tr>\n",
       "  </tbody>\n",
       "</table>\n",
       "</div>"
      ],
      "text/plain": [
       "      ObservationId  MediaId  Vote Content  ClassId       Family  \\\n",
       "397            3087       23   2.0  Flower     5148   Salicaceae   \n",
       "1108            664      133   4.0  Flower      576   Asteraceae   \n",
       "3447          33480      177   3.0  Flower    30471  Orchidaceae   \n",
       "1440           4130      194   4.0  Flower     1047   Asteraceae   \n",
       "476            5260      281   4.0  Flower     8600  Orchidaceae   \n",
       "\n",
       "             Genus                            Species         Location  \\\n",
       "397          Salix                    Salix caprea L.   Champ-sur-Drac   \n",
       "1108        Cyanus                Cyanus segetum Hill            Paris   \n",
       "3447        Ophrys               Ophrys scolopax Cav.           Lauret   \n",
       "1440  Leucanthemum          Leucanthemum vulgare Lam.              NaN   \n",
       "476     Anacamptis  Anacamptis pyramidalis (L.) Rich.  La Tour-sur-Orb   \n",
       "\n",
       "           Date  \n",
       "397   2006-3-10  \n",
       "1108  2013-6-28  \n",
       "3447  2009-5-20  \n",
       "1440  2013-6-27  \n",
       "476   2013-5-21  "
      ]
     },
     "execution_count": 3,
     "metadata": {},
     "output_type": "execute_result"
    }
   ],
   "source": [
    "df = pd.read_csv('Flowers.csv')\n",
    "df = df.sort_values(['MediaId'], ascending=True)\n",
    "df.head()"
   ]
  },
  {
   "cell_type": "markdown",
   "metadata": {},
   "source": [
    "### ***Put images into array***"
   ]
  },
  {
   "cell_type": "code",
   "execution_count": 4,
   "metadata": {},
   "outputs": [],
   "source": [
    "# function to load folder into arrays and then it returns that same array\n",
    "def loadImages():\n",
    "    # Put files into lists and return them as one list of size 4\n",
    "    image_path = os.path.join(os.getcwd(), 'small_dataset_train/train')\n",
    "    image_files = sorted([os.path.join(image_path, file)\n",
    "         for file in os.listdir(image_path) if file.endswith('.jpg')])\n",
    "    \n",
    "    return image_files"
   ]
  },
  {
   "cell_type": "code",
   "execution_count": 5,
   "metadata": {},
   "outputs": [],
   "source": [
    "def reloadImages():\n",
    "    images = []\n",
    "    image_files = sorted([os.path.join('small_dataset_train/train', file)\n",
    "         for file in os.listdir('small_dataset_train/train') if file.endswith('.png')])\n",
    "    \n",
    "    for image in sorted(image_files):\n",
    "        temp = Image.open(image)\n",
    "        keep = temp.copy()\n",
    "        images.append(keep)\n",
    "        \n",
    "    \n",
    "    return images"
   ]
  },
  {
   "cell_type": "markdown",
   "metadata": {},
   "source": [
    "### ***Image Dataframe Creation***"
   ]
  },
  {
   "cell_type": "code",
   "execution_count": 6,
   "metadata": {},
   "outputs": [
    {
     "data": {
      "text/html": [
       "<div>\n",
       "<style scoped>\n",
       "    .dataframe tbody tr th:only-of-type {\n",
       "        vertical-align: middle;\n",
       "    }\n",
       "\n",
       "    .dataframe tbody tr th {\n",
       "        vertical-align: top;\n",
       "    }\n",
       "\n",
       "    .dataframe thead th {\n",
       "        text-align: right;\n",
       "    }\n",
       "</style>\n",
       "<table border=\"1\" class=\"dataframe\">\n",
       "  <thead>\n",
       "    <tr style=\"text-align: right;\">\n",
       "      <th></th>\n",
       "      <th>Filename</th>\n",
       "      <th>MediaId</th>\n",
       "    </tr>\n",
       "  </thead>\n",
       "  <tbody>\n",
       "    <tr>\n",
       "      <th>0</th>\n",
       "      <td>48317.jpg</td>\n",
       "      <td>48317</td>\n",
       "    </tr>\n",
       "    <tr>\n",
       "      <th>1</th>\n",
       "      <td>75041.jpg</td>\n",
       "      <td>75041</td>\n",
       "    </tr>\n",
       "    <tr>\n",
       "      <th>2</th>\n",
       "      <td>64605.jpg</td>\n",
       "      <td>64605</td>\n",
       "    </tr>\n",
       "    <tr>\n",
       "      <th>3</th>\n",
       "      <td>5765.jpg</td>\n",
       "      <td>5765</td>\n",
       "    </tr>\n",
       "    <tr>\n",
       "      <th>4</th>\n",
       "      <td>83008.jpg</td>\n",
       "      <td>83008</td>\n",
       "    </tr>\n",
       "  </tbody>\n",
       "</table>\n",
       "</div>"
      ],
      "text/plain": [
       "    Filename  MediaId\n",
       "0  48317.jpg    48317\n",
       "1  75041.jpg    75041\n",
       "2  64605.jpg    64605\n",
       "3   5765.jpg     5765\n",
       "4  83008.jpg    83008"
      ]
     },
     "execution_count": 6,
     "metadata": {},
     "output_type": "execute_result"
    }
   ],
   "source": [
    "image_path = os.path.join(os.getcwd(), 'small_dataset_train/train')\n",
    "image_files = [os.path.basename(os.path.join(image_path, file))\n",
    "         for file in os.listdir(image_path) if      file.endswith('.jpg')]\n",
    "\n",
    "fileIds = []\n",
    "for image_file in image_files:\n",
    "    fileId = image_file.split('.')[0]\n",
    "    fileIds.append(fileId)\n",
    "        \n",
    "        \n",
    "    \n",
    "# Creation of the Images Dataframe\n",
    "df2 = pd.DataFrame({\n",
    "    'Filename': image_files,\n",
    "    'MediaId': fileIds\n",
    "})\n",
    "\n",
    "# Conversion of types of MediaId rows from 'object' to 'int64'\n",
    "df2[\"MediaId\"] = pd.to_numeric(df2[\"MediaId\"])\n",
    "\n",
    "df2.head()"
   ]
  },
  {
   "cell_type": "markdown",
   "metadata": {},
   "source": [
    "### ***Merge of Image Dataframe and XML Dataframe by 'MediaId'***"
   ]
  },
  {
   "cell_type": "code",
   "execution_count": 7,
   "metadata": {},
   "outputs": [
    {
     "data": {
      "text/html": [
       "<div>\n",
       "<style scoped>\n",
       "    .dataframe tbody tr th:only-of-type {\n",
       "        vertical-align: middle;\n",
       "    }\n",
       "\n",
       "    .dataframe tbody tr th {\n",
       "        vertical-align: top;\n",
       "    }\n",
       "\n",
       "    .dataframe thead th {\n",
       "        text-align: right;\n",
       "    }\n",
       "</style>\n",
       "<table border=\"1\" class=\"dataframe\">\n",
       "  <thead>\n",
       "    <tr style=\"text-align: right;\">\n",
       "      <th></th>\n",
       "      <th>MediaId</th>\n",
       "      <th>Species</th>\n",
       "      <th>Filename</th>\n",
       "    </tr>\n",
       "  </thead>\n",
       "  <tbody>\n",
       "    <tr>\n",
       "      <th>0</th>\n",
       "      <td>23</td>\n",
       "      <td>Salix caprea L.</td>\n",
       "      <td>23.jpg</td>\n",
       "    </tr>\n",
       "    <tr>\n",
       "      <th>1</th>\n",
       "      <td>133</td>\n",
       "      <td>Cyanus segetum Hill</td>\n",
       "      <td>133.jpg</td>\n",
       "    </tr>\n",
       "    <tr>\n",
       "      <th>2</th>\n",
       "      <td>177</td>\n",
       "      <td>Ophrys scolopax Cav.</td>\n",
       "      <td>177.jpg</td>\n",
       "    </tr>\n",
       "    <tr>\n",
       "      <th>3</th>\n",
       "      <td>194</td>\n",
       "      <td>Leucanthemum vulgare Lam.</td>\n",
       "      <td>194.jpg</td>\n",
       "    </tr>\n",
       "    <tr>\n",
       "      <th>4</th>\n",
       "      <td>281</td>\n",
       "      <td>Anacamptis pyramidalis (L.) Rich.</td>\n",
       "      <td>281.jpg</td>\n",
       "    </tr>\n",
       "  </tbody>\n",
       "</table>\n",
       "</div>"
      ],
      "text/plain": [
       "   MediaId                            Species Filename\n",
       "0       23                    Salix caprea L.   23.jpg\n",
       "1      133                Cyanus segetum Hill  133.jpg\n",
       "2      177               Ophrys scolopax Cav.  177.jpg\n",
       "3      194          Leucanthemum vulgare Lam.  194.jpg\n",
       "4      281  Anacamptis pyramidalis (L.) Rich.  281.jpg"
      ]
     },
     "execution_count": 7,
     "metadata": {},
     "output_type": "execute_result"
    }
   ],
   "source": [
    "df3 = pd.merge(df, df2, on='MediaId', how='inner')\n",
    "df3[['MediaId','Species','Filename']].head()"
   ]
  },
  {
   "cell_type": "markdown",
   "metadata": {},
   "source": [
    "### ***Creation of the final dataframe***\n",
    "\n",
    "#### ***Only keeping the 'Species' and 'Filename' columns***"
   ]
  },
  {
   "cell_type": "code",
   "execution_count": 8,
   "metadata": {},
   "outputs": [
    {
     "data": {
      "text/html": [
       "<div>\n",
       "<style scoped>\n",
       "    .dataframe tbody tr th:only-of-type {\n",
       "        vertical-align: middle;\n",
       "    }\n",
       "\n",
       "    .dataframe tbody tr th {\n",
       "        vertical-align: top;\n",
       "    }\n",
       "\n",
       "    .dataframe thead th {\n",
       "        text-align: right;\n",
       "    }\n",
       "</style>\n",
       "<table border=\"1\" class=\"dataframe\">\n",
       "  <thead>\n",
       "    <tr style=\"text-align: right;\">\n",
       "      <th></th>\n",
       "      <th>Species</th>\n",
       "      <th>Filename</th>\n",
       "    </tr>\n",
       "  </thead>\n",
       "  <tbody>\n",
       "    <tr>\n",
       "      <th>0</th>\n",
       "      <td>Salix caprea L.</td>\n",
       "      <td>23.jpg</td>\n",
       "    </tr>\n",
       "    <tr>\n",
       "      <th>1</th>\n",
       "      <td>Cyanus segetum Hill</td>\n",
       "      <td>133.jpg</td>\n",
       "    </tr>\n",
       "    <tr>\n",
       "      <th>2</th>\n",
       "      <td>Ophrys scolopax Cav.</td>\n",
       "      <td>177.jpg</td>\n",
       "    </tr>\n",
       "    <tr>\n",
       "      <th>3</th>\n",
       "      <td>Leucanthemum vulgare Lam.</td>\n",
       "      <td>194.jpg</td>\n",
       "    </tr>\n",
       "    <tr>\n",
       "      <th>4</th>\n",
       "      <td>Anacamptis pyramidalis (L.) Rich.</td>\n",
       "      <td>281.jpg</td>\n",
       "    </tr>\n",
       "  </tbody>\n",
       "</table>\n",
       "</div>"
      ],
      "text/plain": [
       "                             Species Filename\n",
       "0                    Salix caprea L.   23.jpg\n",
       "1                Cyanus segetum Hill  133.jpg\n",
       "2               Ophrys scolopax Cav.  177.jpg\n",
       "3          Leucanthemum vulgare Lam.  194.jpg\n",
       "4  Anacamptis pyramidalis (L.) Rich.  281.jpg"
      ]
     },
     "execution_count": 8,
     "metadata": {},
     "output_type": "execute_result"
    }
   ],
   "source": [
    "# Copy of initial dataframe\n",
    "data = df3.copy()\n",
    "\n",
    "# Deleting non-useful columns\n",
    "data=data.drop(['ObservationId', 'MediaId', 'Vote', 'Content', \n",
    "                'ClassId', 'Family', 'Genus','Location','Date'],\n",
    "axis=1)\n",
    "\n",
    "data.head()"
   ]
  },
  {
   "cell_type": "markdown",
   "metadata": {},
   "source": [
    "### ***Resizing images***"
   ]
  },
  {
   "cell_type": "code",
   "execution_count": 9,
   "metadata": {},
   "outputs": [],
   "source": [
    "##### Display one image\n",
    "def display_one(a, title1 = \"Original\"):\n",
    "    plt.imshow(a), plt.title(title1)\n",
    "    plt.xticks([]), plt.yticks([])\n",
    "    plt.show()\n",
    "    \n",
    "# Display two images\n",
    "def display(a, b, title1 = \"Original\", title2 = \"Edited\"):\n",
    "    plt.subplot(121), plt.imshow(a), plt.title(title1)\n",
    "    plt.xticks([]), plt.yticks([])\n",
    "    plt.subplot(122), plt.imshow(b), plt.title(title2)\n",
    "    plt.xticks([]), plt.yticks([])\n",
    "    plt.show()\n",
    "    \n",
    "# Preprocessing\n",
    "def resize(images):\n",
    "    # Getting 500 images to work with \n",
    "    img = [cv2.imread(i, cv2.IMREAD_UNCHANGED) for i in images]\n",
    "    #print('Original size', img[1].shape)\n",
    "    # --------------------------------\n",
    "    # setting dimensions of the resize\n",
    "    height = 220\n",
    "    width = 220\n",
    "    dim = (width, height)\n",
    "    resized_images = []\n",
    "    for i in range(len(img)):\n",
    "        resized = cv2.resize(img[i], dim, interpolation=cv2.INTER_LINEAR)\n",
    "        resized_images.append(resized)\n",
    "\n",
    "    # Checking the size\n",
    "    #print(\"RESIZED\", res_img[1].shape)\n",
    "    \n",
    "    return resized_images\n",
    "    # Visualizing one of the images in the array\n",
    "    # original = res_img[1]\n",
    "    # display_one(original)\n",
    "    "
   ]
  },
  {
   "cell_type": "markdown",
   "metadata": {},
   "source": [
    "### Apply greyscale, resize, and rename images "
   ]
  },
  {
   "cell_type": "code",
   "execution_count": 10,
   "metadata": {},
   "outputs": [],
   "source": [
    "def formatting(images):\n",
    "    for i in images:\n",
    "        img = Image.open(i)      \n",
    "        temp = i.split('.')\n",
    "        new_image = img.resize((220, 220))    \n",
    "        greyscale_image = new_image.convert('L')\n",
    "       # croppedIm = greyscale_image.crop((290, 250, 650, 650)) \n",
    "        name = str(temp[0])+'.png'       \n",
    "       # croppedIm.save(name)\n",
    "        greyscale_image.save(name)"
   ]
  },
  {
   "cell_type": "markdown",
   "metadata": {},
   "source": [
    "## Apply HOG on images"
   ]
  },
  {
   "cell_type": "code",
   "execution_count": 11,
   "metadata": {},
   "outputs": [],
   "source": [
    "def HOG(images):\n",
    "    images_HOG = [];\n",
    "    for image in images:\n",
    "        hog = cv2.HOGDescriptor()\n",
    "        im = cv2.imread(image)\n",
    "        h = hog.compute(im)\n",
    "\n",
    "        images_HOG.append(h)\n",
    "        \n",
    "        \n",
    "    print(len(images_HOG))\n",
    "    return images_HOG"
   ]
  },
  {
   "cell_type": "code",
   "execution_count": 12,
   "metadata": {},
   "outputs": [],
   "source": [
    "def Histogram_Oriented_Gradients(images_list):\n",
    "    listfig, listfd = [], []\n",
    "    for image in images_list:\n",
    "        fd, hog_image = hog(image, orientations=8, pixels_per_cell=(16, 16),\n",
    "                        cells_per_block=(1, 1), visualize=True, multichannel=False)\n",
    "\n",
    "        # Rescale histogram for better display\n",
    "        hog_image_rescaled = exposure.rescale_intensity(hog_image, in_range=(0, 10))\n",
    "        listfig.append(hog_image_rescaled)\n",
    "        listfd.append(fd)\n",
    "    \n",
    "    return listfd"
   ]
  },
  {
   "cell_type": "code",
   "execution_count": 13,
   "metadata": {},
   "outputs": [],
   "source": [
    "def process_images(images):\n",
    "    nrows = 100\n",
    "    ncolumns = 100\n",
    "    channels = 3\n",
    "    X = []\n",
    "    \n",
    "    for image in images:\n",
    "        X.append(\n",
    "            cv2.resize(cv2.imread(image, cv2.IMREAD_COLOR), (nrows, ncolumns), interpolation = cv2.INTER_CUBIC)\n",
    "        )\n",
    "    \n",
    "    return X"
   ]
  },
  {
   "cell_type": "markdown",
   "metadata": {},
   "source": [
    "### load images from the dataset"
   ]
  },
  {
   "cell_type": "code",
   "execution_count": 14,
   "metadata": {},
   "outputs": [
    {
     "name": "stdout",
     "output_type": "stream",
     "text": [
      "Loading images ...\n",
      "Images loaded \n",
      "\n",
      "Processing images ...\n",
      "Processing loaded \n",
      "\n",
      "shape of X : (3474, 100, 100, 3)\n",
      "shape of y : (3474,)\n"
     ]
    }
   ],
   "source": [
    "print(\"Loading images ...\")\n",
    "images = loadImages()\n",
    "print(\"Images loaded \\n\")\n",
    "\n",
    "print(\"Processing images ...\")    \n",
    "X = process_images(images)\n",
    "print(\"Processing loaded \\n\")\n",
    "\n",
    "X = np.array(X)\n",
    "y = df3[['Species']].values.ravel()\n",
    "\n",
    "print(\"shape of X :\", X.shape)\n",
    "print(\"shape of y :\", y.shape)"
   ]
  },
  {
   "cell_type": "markdown",
   "metadata": {},
   "source": [
    "### Store variables to pass it to CNN"
   ]
  },
  {
   "cell_type": "code",
   "execution_count": 15,
   "metadata": {},
   "outputs": [
    {
     "name": "stdout",
     "output_type": "stream",
     "text": [
      "Stored 'preprocessed_images' (tuple)\n"
     ]
    }
   ],
   "source": [
    "preprocessed_images = (X, y)\n",
    "%store preprocessed_images"
   ]
  }
 ],
 "metadata": {
  "kernelspec": {
   "display_name": "Python 3",
   "language": "python",
   "name": "python3"
  },
  "language_info": {
   "codemirror_mode": {
    "name": "ipython",
    "version": 3
   },
   "file_extension": ".py",
   "mimetype": "text/x-python",
   "name": "python",
   "nbconvert_exporter": "python",
   "pygments_lexer": "ipython3",
   "version": "3.6.7"
  }
 },
 "nbformat": 4,
 "nbformat_minor": 2
}
