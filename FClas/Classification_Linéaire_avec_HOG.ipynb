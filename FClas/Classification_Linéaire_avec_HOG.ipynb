{
 "cells": [
  {
   "cell_type": "code",
   "execution_count": 18,
   "metadata": {},
   "outputs": [],
   "source": [
    "import numpy\n",
    "import pandas\n",
    "\n",
    "import collections\n",
    "import os\n",
    "import sys\n",
    "import pandas as pd\n",
    "from PIL import Image\n",
    "\n",
    "from skimage.feature import hog\n",
    "\n",
    "from sklearn.model_selection import KFold, cross_val_score, GridSearchCV, train_test_split\n",
    "from sklearn.neighbors import KNeighborsClassifier\n",
    "from sklearn.linear_model import LogisticRegression\n",
    "from sklearn.tree import DecisionTreeClassifier\n",
    "from sklearn.ensemble import RandomForestClassifier\n",
    "from sklearn.svm import SVC\n",
    "from sklearn.metrics import accuracy_score, confusion_matrix, classification_report\n",
    "\n",
    "import time\n",
    "\n",
    "import matplotlib.pyplot as plot\n",
    "%matplotlib inline\n",
    "\n",
    "import warnings\n",
    "warnings.filterwarnings(\"ignore\", category=FutureWarning)"
   ]
  },
  {
   "cell_type": "code",
   "execution_count": 19,
   "metadata": {},
   "outputs": [],
   "source": [
    "train_directory = \"small_dataset_train/\"\n",
    "\n",
    "# Data Flower\n",
    "df = pd.read_csv('Flowers.csv',\n",
    "                 sep = ',',\n",
    "                 header = 0,\n",
    "                 index_col = \"MediaId\",\n",
    "                 encoding = \"utf8\").to_numpy()\n",
    "\n",
    "# Flower Label getted by the species colomn\n",
    "fl = df[:, 6]"
   ]
  },
  {
   "cell_type": "markdown",
   "metadata": {},
   "source": [
    "### Returns the dictionary of the HOG features of all the images in the directory"
   ]
  },
  {
   "cell_type": "code",
   "execution_count": 20,
   "metadata": {},
   "outputs": [],
   "source": [
    "def getHogFeatures(directory):\n",
    "    hogFeatures = {}\n",
    "    \n",
    "    for subdirectory in os.listdir(directory):\n",
    "        for file in os.listdir(directory + subdirectory):\n",
    "            if file.endswith(\".jpg\"):\n",
    "                mediaId = int(os.path.splitext(file)[0])\n",
    "                \n",
    "                image = Image.open(os.path.join(directory + subdirectory, file))\n",
    "                image = image.resize((100,100))\n",
    "\n",
    "                hogFeature = hog(image,\n",
    "                                 orientations = 8,\n",
    "                                 pixels_per_cell = (16, 16),\n",
    "                                 cells_per_block = (4, 4),\n",
    "                                 visualize = False,\n",
    "                                 multichannel = True)\n",
    "\n",
    "                hogFeatures[mediaId] = hogFeature\n",
    "                \n",
    "    return hogFeatures"
   ]
  },
  {
   "cell_type": "code",
   "execution_count": 21,
   "metadata": {},
   "outputs": [],
   "source": [
    "fd = getHogFeatures(train_directory)\n",
    "\n",
    "# Sort the dictionaries so it matches the labels\n",
    "fd = collections.OrderedDict(sorted(fd.items()))\n",
    "\n",
    "# Only keep the list of values\n",
    "fd = list(fd.values())[:]"
   ]
  },
  {
   "cell_type": "code",
   "execution_count": 22,
   "metadata": {},
   "outputs": [],
   "source": [
    "validation_size=0.7 #30% du jeu de données pour le test\n",
    "\n",
    "testsize= 1-validation_size\n",
    "\n",
    "X_train, X_test, Y_train, Y_test = train_test_split(fd,\n",
    "                                                    fl,\n",
    "                                                    train_size = validation_size,\n",
    "                                                    test_size = testsize)"
   ]
  },
  {
   "cell_type": "markdown",
   "metadata": {},
   "source": [
    "### **Evaluation de LogisticRegression, KNeighborsClassifier, Linear SVC, RandomForestClassifier et DecisionTreeClassifier**\n",
    "\n",
    "Nous créons un table des classifieurs à évaluer"
   ]
  },
  {
   "cell_type": "code",
   "execution_count": 23,
   "metadata": {},
   "outputs": [],
   "source": [
    "seed = 7\n",
    "scoring = 'accuracy'\n",
    "models = []\n",
    "models.append(('LR', LogisticRegression()))\n",
    "models.append(('KNN', KNeighborsClassifier()))\n",
    "models.append(('SVC', SVC(gamma='auto')))\n",
    "models.append(('RFC', RandomForestClassifier()))\n",
    "models.append(('DTR', DecisionTreeClassifier()))"
   ]
  },
  {
   "cell_type": "code",
   "execution_count": 24,
   "metadata": {},
   "outputs": [
    {
     "name": "stdout",
     "output_type": "stream",
     "text": [
      "Time pour LR   144.575012922287\n",
      "LR: 0.031667 (0.008986)\n",
      "Time pour KNN   13.577621221542358\n",
      "KNN: 0.021391 (0.009877)\n",
      "Time pour SVC   138.16893410682678\n",
      "SVC: 0.027147 (0.010756)\n",
      "Time pour RFC   30.179702043533325\n",
      "RFC: 0.023037 (0.008274)\n",
      "Time pour DTR   236.99014282226562\n",
      "DTR: 0.020566 (0.014013)\n"
     ]
    }
   ],
   "source": [
    "seed = 7\n",
    "results = []\n",
    "names = []\n",
    "scoring='accuracy'\n",
    "for name,model in models:\n",
    "    kfold = KFold(n_splits=10, random_state=seed)\n",
    "    start_time = time.time()\n",
    "    cv_results = cross_val_score(model, X_train, Y_train, cv=kfold, scoring=scoring)\n",
    "    print (\"Time pour\",name,\" \",time.time() - start_time)\n",
    "    results.append(cv_results)\n",
    "    names.append(name)\n",
    "    msg = \"%s: %f (%f)\" % (name, cv_results.mean(), cv_results.std())\n",
    "    print(msg) "
   ]
  },
  {
   "cell_type": "markdown",
   "metadata": {},
   "source": [
    "### Comparaison de résultats de différents classifieurs"
   ]
  },
  {
   "cell_type": "code",
   "execution_count": 25,
   "metadata": {},
   "outputs": [
    {
     "data": {
      "text/plain": [
       "[Text(0, 0, 'LR'),\n",
       " Text(0, 0, 'KNN'),\n",
       " Text(0, 0, 'SVC'),\n",
       " Text(0, 0, 'RFC'),\n",
       " Text(0, 0, 'DTR')]"
      ]
     },
     "execution_count": 25,
     "metadata": {},
     "output_type": "execute_result"
    },
    {
     "data": {
      "image/png": "[encoded data removed]",
      "text/plain": [
       "<Figure size 432x288 with 1 Axes>"
      ]
     },
     "metadata": {
      "needs_background": "light"
     },
     "output_type": "display_data"
    }
   ],
   "source": [
    "import matplotlib.pyplot as plt\n",
    "\n",
    "fig = plt.figure()\n",
    "fig.suptitle('Comparaison des algorithmes')\n",
    "ax = fig.add_subplot(111)\n",
    "plt.boxplot(results)\n",
    "ax.set_xticklabels(names)"
   ]
  },
  {
   "cell_type": "markdown",
   "metadata": {},
   "source": [
    "### Tableau pour faciliter la comparaison des classifieurs\n"
   ]
  },
  {
   "cell_type": "code",
   "execution_count": 27,
   "metadata": {},
   "outputs": [],
   "source": [
    "# Dictionary of all the classifiers we want to test\n",
    "classifiers = {\n",
    "    'KNeighborsClassifier': KNeighborsClassifier(),\n",
    "    'LogisticRegression': LogisticRegression(),\n",
    "    'RandomForestClassifier': RandomForestClassifier(),\n",
    "    'DecisionTreeClassifier': DecisionTreeClassifier(),\n",
    "    'SVC': SVC()\n",
    "}\n",
    "\n",
    "# Dictionary of all their hyper-parameters to tune\n",
    "parameters = {\n",
    "    'KNeighborsClassifier': {\n",
    "        'n_neighbors': [3, 5, 11],\n",
    "        'weights': ['uniform', 'distance'],\n",
    "        'metric': ['euclidean', 'manhattan']\n",
    "    },\n",
    "    'LogisticRegression': {\n",
    "        'C': [0.1, 1],\n",
    "        'solver': ['saga'],\n",
    "        'multi_class': ['auto']\n",
    "    },\n",
    "    'RandomForestClassifier': [\n",
    "        {'n_estimators': [4, 6, 9]}, \n",
    "        {'max_features': ['log2', 'sqrt','auto']}, \n",
    "        {'criterion': ['entropy', 'gini']},\n",
    "        {'max_depth': [2, 3, 5, 10]}, \n",
    "        {'min_samples_split': [2, 3, 5]},\n",
    "        {'min_samples_leaf': [1,5,8]}\n",
    "    ],\n",
    "    'DecisionTreeClassifier': [\n",
    "        {'max_depth': [1,2,3,4,5,6,7,8,9,10]},\n",
    "        {'criterion': ['gini', 'entropy']},\n",
    "        {'min_samples_leaf': [1,2,3,4,5,6,7,8,9,10]}\n",
    "    ],\n",
    "    'SVC': {\n",
    "        'C': [0.1, 1],\n",
    "        'gamma': ['scale'],\n",
    "        'kernel': ['linear', 'rbf', 'sigmoid'],\n",
    "        'random_state': [0]\n",
    "    }\n",
    "}"
   ]
  },
  {
   "cell_type": "markdown",
   "metadata": {},
   "source": [
    "### Application de GridSearchCV afin de trouver les meilleurs paramètres pour chaque classifieur"
   ]
  },
  {
   "cell_type": "code",
   "execution_count": 28,
   "metadata": {},
   "outputs": [
    {
     "name": "stdout",
     "output_type": "stream",
     "text": [
      "KNeighborsClassifier :  0.027149321266968326 \n",
      "\n"
     ]
    },
    {
     "name": "stderr",
     "output_type": "stream",
     "text": [
      "/home/bj/jupenv/lib/python3.6/site-packages/sklearn/linear_model/sag.py:334: ConvergenceWarning: The max_iter was reached which means the coef_ did not converge\n",
      "  \"the coef_ did not converge\", ConvergenceWarning)\n"
     ]
    },
    {
     "name": "stdout",
     "output_type": "stream",
     "text": [
      "LogisticRegression :  0.03578774167009461 \n",
      "\n",
      "RandomForestClassifier :  0.0337309749074455 \n",
      "\n",
      "DecisionTreeClassifier :  0.030440148087206912 \n",
      "\n",
      "SVC :  0.03249691484985603 \n",
      "\n"
     ]
    }
   ],
   "source": [
    "# Class representing a model\n",
    "class Model:\n",
    "    def __init__(self, classifier, parameters, score):\n",
    "        self.classifier = classifier\n",
    "        self.parameters = parameters\n",
    "        self.score = score\n",
    "\n",
    "    def __repr__(self):\n",
    "        return repr((self.classifier, self.parameters, self.score))\n",
    "\n",
    "results = []\n",
    "for classifierName, classifier in classifiers.items():\n",
    "    gridSearch = GridSearchCV(\n",
    "        estimator = classifier,\n",
    "        param_grid = parameters[classifierName],\n",
    "        scoring = \"accuracy\",\n",
    "        cv = 5,\n",
    "        n_jobs = -1,\n",
    "        iid = True\n",
    "    )\n",
    "\n",
    "    gridSearch.fit(X_train, Y_train)\n",
    "\n",
    "    result = Model(classifierName, gridSearch.best_params_, gridSearch.best_score_)\n",
    "    results.append(result)\n",
    "    print (result.classifier, \": \", result.score, '\\n')\n",
    "\n",
    "results = sorted(results, key = lambda result: result.score, reverse = True)"
   ]
  },
  {
   "cell_type": "markdown",
   "metadata": {},
   "source": [
    "### **Recupération du meilleur classifieur avec ses paramètres**"
   ]
  },
  {
   "cell_type": "code",
   "execution_count": 29,
   "metadata": {},
   "outputs": [
    {
     "name": "stderr",
     "output_type": "stream",
     "text": [
      "/home/bj/jupenv/lib/python3.6/site-packages/sklearn/linear_model/sag.py:334: ConvergenceWarning: The max_iter was reached which means the coef_ did not converge\n",
      "  \"the coef_ did not converge\", ConvergenceWarning)\n"
     ]
    },
    {
     "data": {
      "text/plain": [
       "LogisticRegression(C=1, class_weight=None, dual=False, fit_intercept=True,\n",
       "          intercept_scaling=1, max_iter=100, multi_class='auto',\n",
       "          n_jobs=None, penalty='l2', random_state=None, solver='saga',\n",
       "          tol=0.0001, verbose=0, warm_start=False)"
      ]
     },
     "execution_count": 29,
     "metadata": {},
     "output_type": "execute_result"
    }
   ],
   "source": [
    "bestModel = results[0]\n",
    "classifier = eval(bestModel.classifier)()\n",
    "classifier.set_params(**bestModel.parameters)\n",
    "\n",
    "classifier.fit(X_train, Y_train)"
   ]
  },
  {
   "cell_type": "code",
   "execution_count": 45,
   "metadata": {},
   "outputs": [
    {
     "name": "stdout",
     "output_type": "stream",
     "text": [
      "Accuracy for Logiscit Regression:  2.0 %\n",
      "\n"
     ]
    }
   ],
   "source": [
    "import math\n",
    "\n",
    "prediction = classifier.predict(X_test)\n",
    "\n",
    "print(\"Accuracy for Logistic Regression: \", round(\n",
    "    100 * accuracy_score(Y_test, prediction)), '%\\n')"
   ]
  },
  {
   "cell_type": "code",
   "execution_count": 26,
   "metadata": {},
   "outputs": [
    {
     "data": {
      "text/plain": [
       "array(['Bellis perennis L.', 'Anemone alpina L.', 'Ficaria verna Huds.',\n",
       "       ..., 'Anemone alpina L.', 'Dactylorhiza maculata (L.) Soó',\n",
       "       'Ophrys passionis Sennen'], dtype=object)"
      ]
     },
     "execution_count": 26,
     "metadata": {},
     "output_type": "execute_result"
    }
   ],
   "source": []
  }
 ],
 "metadata": {
  "kernelspec": {
   "display_name": "Python 3",
   "language": "python",
   "name": "python3"
  },
  "language_info": {
   "codemirror_mode": {
    "name": "ipython",
    "version": 3
   },
   "file_extension": ".py",
   "mimetype": "text/x-python",
   "name": "python",
   "nbconvert_exporter": "python",
   "pygments_lexer": "ipython3",
   "version": "3.6.7"
  }
 },
 "nbformat": 4,
 "nbformat_minor": 2
}
