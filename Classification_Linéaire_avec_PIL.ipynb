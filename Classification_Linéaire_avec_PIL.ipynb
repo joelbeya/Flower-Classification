{
 "cells": [
  {
   "cell_type": "code",
   "execution_count": 1,
   "metadata": {},
   "outputs": [
    {
     "name": "stderr",
     "output_type": "stream",
     "text": [
      "Using TensorFlow backend.\n"
     ]
    }
   ],
   "source": [
    "import warnings\n",
    "import numpy as np\n",
    "import cv2 as cv\n",
    "import pandas as pd\n",
    "import collections\n",
    "import os\n",
    "\n",
    "from PIL import Image\n",
    "\n",
    "from keras.preprocessing import image\n",
    "from pathlib import Path\n",
    "from skimage.io import imread\n",
    "\n",
    "from sklearn.model_selection import KFold, cross_val_score, GridSearchCV, train_test_split\n",
    "from sklearn.neighbors import KNeighborsClassifier\n",
    "from sklearn.linear_model import LogisticRegression\n",
    "from sklearn.tree import DecisionTreeClassifier\n",
    "from sklearn.ensemble import RandomForestClassifier\n",
    "from sklearn.svm import SVC\n",
    "from sklearn.metrics import accuracy_score, confusion_matrix, classification_report\n",
    "\n",
    "import time\n",
    "\n",
    "import matplotlib.pyplot as plot\n",
    "%matplotlib inline\n",
    "\n",
    "import warnings\n",
    "warnings.filterwarnings(\"ignore\", category=FutureWarning)"
   ]
  },
  {
   "cell_type": "code",
   "execution_count": 2,
   "metadata": {},
   "outputs": [],
   "source": [
    "train_directory = \"small_dataset_train/\"\n",
    "\n",
    "# Data Flower\n",
    "df = pd.read_csv('Flowers.csv',\n",
    "                 sep = ',',\n",
    "                 header = 0,\n",
    "                 index_col = \"MediaId\",\n",
    "                 encoding = \"utf8\").to_numpy()\n",
    "\n",
    "# Flower Label\n",
    "fl = df[:, 1].astype('int')"
   ]
  },
  {
   "cell_type": "markdown",
   "metadata": {},
   "source": [
    "### Renvoi un dictionnaire de listes de toutes les valeurs de pixels de toutes les images du Dataset"
   ]
  },
  {
   "cell_type": "code",
   "execution_count": 3,
   "metadata": {},
   "outputs": [],
   "source": [
    "def getPixelsFromImage(directory):\n",
    "    pixels = {}\n",
    "    \n",
    "    for subdirectory in os.listdir(directory):\n",
    "        for file in os.listdir(directory + subdirectory):\n",
    "            if (file.endswith(\".jpg\")):\n",
    "                mediaId = int(os.path.splitext(file)[0])\n",
    "\n",
    "                image = Image.open(os.path.join(directory + subdirectory, file))\n",
    "                image = image.resize((100,100))\n",
    "                \n",
    "                pixels[mediaId] = list(image.getdata().convert('RGB').convert('P'))\n",
    "            \n",
    "    return pixels"
   ]
  },
  {
   "cell_type": "code",
   "execution_count": 4,
   "metadata": {},
   "outputs": [],
   "source": [
    "fd = getPixelsFromImage(train_directory)\n",
    "\n",
    "# Sort the dictionaries so it matches the labels\n",
    "fd = collections.OrderedDict(sorted(fd.items()))\n",
    "\n",
    "# Only keep the list of values\n",
    "fd = list(fd.values())[:]"
   ]
  },
  {
   "cell_type": "code",
   "execution_count": 5,
   "metadata": {},
   "outputs": [],
   "source": [
    "validation_size=0.7 #30% du jeu de données pour le test\n",
    "\n",
    "testsize= 1-validation_size\n",
    "\n",
    "X_train, X_test, Y_train, Y_test = train_test_split(fd,\n",
    "                                                    fl,\n",
    "                                                    train_size = validation_size,\n",
    "                                                    test_size = testsize)"
   ]
  },
  {
   "cell_type": "markdown",
   "metadata": {},
   "source": [
    "### **Evaluation de LogisticRegression, KNeighborsClassifier, Linear SVC, RandomForestClassifier et DecisionTreeClassifier**\n",
    "\n",
    "Nous créons une table des classifieurs à évaluer"
   ]
  },
  {
   "cell_type": "code",
   "execution_count": 6,
   "metadata": {},
   "outputs": [],
   "source": [
    "seed = 7\n",
    "scoring = 'accuracy'\n",
    "models = []\n",
    "models.append(('LR', LogisticRegression()))\n",
    "models.append(('KNN', KNeighborsClassifier()))\n",
    "models.append(('SVC', SVC(gamma='auto')))\n",
    "models.append(('RFC', RandomForestClassifier()))\n",
    "models.append(('DTR', DecisionTreeClassifier()))"
   ]
  },
  {
   "cell_type": "code",
   "execution_count": null,
   "metadata": {},
   "outputs": [
    {
     "name": "stdout",
     "output_type": "stream",
     "text": [
      "Time pour LR   903.8319835662842\n",
      "LR: 0.487044 (0.028481)\n",
      "Time pour KNN   138.3841323852539\n",
      "KNN: 0.515429 (0.025088)\n",
      "Time pour SVC   1422.0461523532867\n",
      "SVC: 0.577946 (0.027318)\n",
      "Time pour RFC   31.376068353652954\n",
      "RFC: 0.535165 (0.033606)\n"
     ]
    }
   ],
   "source": [
    "seed = 7\n",
    "results = []\n",
    "names = []\n",
    "scoring='accuracy'\n",
    "for name,model in models:\n",
    "    kfold = KFold(n_splits=10, random_state=seed)\n",
    "    start_time = time.time()\n",
    "    cv_results = cross_val_score(model, X_train, Y_train, cv=kfold, scoring=scoring)\n",
    "    print (\"Time pour\",name,\" \",time.time() - start_time)\n",
    "    results.append(cv_results)\n",
    "    names.append(name)\n",
    "    msg = \"%s: %f (%f)\" % (name, cv_results.mean(), cv_results.std())\n",
    "    print(msg) "
   ]
  },
  {
   "cell_type": "markdown",
   "metadata": {},
   "source": [
    "### Comparaison de résultats de différents classifieurs"
   ]
  },
  {
   "cell_type": "code",
   "execution_count": 21,
   "metadata": {},
   "outputs": [
    {
     "data": {
      "text/plain": [
       "[Text(0, 0, 'LR'),\n",
       " Text(0, 0, 'KNN'),\n",
       " Text(0, 0, 'SVC'),\n",
       " Text(0, 0, 'RFC'),\n",
       " Text(0, 0, 'DTR')]"
      ]
     },
     "execution_count": 21,
     "metadata": {},
     "output_type": "execute_result"
    },
    {
     "data": {
      "image/png": "[encoded data removed]",
      "text/plain": [
       "<Figure size 432x288 with 1 Axes>"
      ]
     },
     "metadata": {
      "needs_background": "light"
     },
     "output_type": "display_data"
    }
   ],
   "source": [
    "import matplotlib.pyplot as plt\n",
    "\n",
    "fig = plt.figure()\n",
    "fig.suptitle('Comparaison des algorithmes')\n",
    "ax = fig.add_subplot(111)\n",
    "plt.boxplot(results)\n",
    "ax.set_xticklabels(names)"
   ]
  },
  {
   "cell_type": "markdown",
   "metadata": {},
   "source": [
    "### Tableau pour faciliter la comparaison des classifieurs"
   ]
  },
  {
   "cell_type": "code",
   "execution_count": 10,
   "metadata": {},
   "outputs": [],
   "source": [
    "# Dictionary of all the classifiers we want to test\n",
    "classifiers = {\n",
    "    'KNeighborsClassifier': KNeighborsClassifier(),\n",
    "    'LogisticRegression': LogisticRegression(),\n",
    "    'RandomForestClassifier': RandomForestClassifier(),\n",
    "    'DecisionTreeClassifier': DecisionTreeClassifier(),\n",
    "    'SVC': SVC()\n",
    "}\n",
    "\n",
    "# Dictionary of all their hyper-parameters to tune\n",
    "parameters = {\n",
    "    'KNeighborsClassifier': {\n",
    "        'n_neighbors': [3, 5, 11],\n",
    "        'weights': ['uniform', 'distance'],\n",
    "        'metric': ['euclidean', 'manhattan']\n",
    "    },\n",
    "    'LogisticRegression': {\n",
    "        'C': [0.1, 1],\n",
    "        'solver': ['saga'],\n",
    "        'multi_class': ['auto']\n",
    "    },\n",
    "    'RandomForestClassifier': [\n",
    "        {'n_estimators': [4, 6, 9]}, \n",
    "        {'max_features': ['log2', 'sqrt','auto']}, \n",
    "        {'criterion': ['entropy', 'gini']},\n",
    "        {'max_depth': [2, 3, 5, 10]}, \n",
    "        {'min_samples_split': [2, 3, 5]},\n",
    "        {'min_samples_leaf': [1,5,8]}\n",
    "    ],\n",
    "    'DecisionTreeClassifier': [\n",
    "        {'max_depth': [1,2,3,4,5,6,7,8,9,10]},\n",
    "        {'criterion': ['gini', 'entropy']},\n",
    "        {'min_samples_leaf': [1,2,3,4,5,6,7,8,9,10]}\n",
    "    ],\n",
    "    'SVC': {\n",
    "        'C': [0.1, 1],\n",
    "        'gamma': ['scale'],\n",
    "        'kernel': ['linear', 'rbf', 'sigmoid'],\n",
    "        'random_state': [0]\n",
    "    }\n",
    "}"
   ]
  },
  {
   "cell_type": "markdown",
   "metadata": {},
   "source": [
    "### Application de GridSearchCV afin de trouver les meilleurs paramètres pour chaque classifieur\n"
   ]
  },
  {
   "cell_type": "code",
   "execution_count": 11,
   "metadata": {},
   "outputs": [
    {
     "name": "stdout",
     "output_type": "stream",
     "text": [
      "KNeighborsClassifier :  0.5610859728506787 \n",
      "\n",
      "LogisticRegression :  0.47716988893459483 \n",
      "\n",
      "RandomForestClassifier :  0.5853558206499383 \n",
      "\n",
      "DecisionTreeClassifier :  0.5845331139448786 \n",
      "\n",
      "SVC :  0.5853558206499383 \n",
      "\n"
     ]
    }
   ],
   "source": [
    "# Class representing a model\n",
    "class Model:\n",
    "    def __init__(self, classifier, parameters, score):\n",
    "        self.classifier = classifier\n",
    "        self.parameters = parameters\n",
    "        self.score = score\n",
    "\n",
    "    def __repr__(self):\n",
    "        return repr((self.classifier, self.parameters, self.score))\n",
    "\n",
    "results = []\n",
    "for classifierName, classifier in classifiers.items():\n",
    "    gridSearch = GridSearchCV(\n",
    "        estimator = classifier,\n",
    "        param_grid = parameters[classifierName],\n",
    "        scoring = \"accuracy\",\n",
    "        cv = 5,\n",
    "        n_jobs = -1,\n",
    "        iid = True\n",
    "    )\n",
    "\n",
    "    gridSearch.fit(X_train, Y_train)\n",
    "\n",
    "    result = Model(classifierName, gridSearch.best_params_, gridSearch.best_score_)\n",
    "    results.append(result)\n",
    "    print (result.classifier, \": \", result.score, '\\n')\n",
    "\n",
    "results = sorted(results, key = lambda result: result.score, reverse = True)"
   ]
  },
  {
   "cell_type": "markdown",
   "metadata": {},
   "source": [
    "### **Recupération du meilleur classifieur avec ses paramètres**"
   ]
  },
  {
   "cell_type": "code",
   "execution_count": 12,
   "metadata": {},
   "outputs": [
    {
     "data": {
      "text/plain": [
       "RandomForestClassifier(bootstrap=True, class_weight=None, criterion='gini',\n",
       "            max_depth=2, max_features='auto', max_leaf_nodes=None,\n",
       "            min_impurity_decrease=0.0, min_impurity_split=None,\n",
       "            min_samples_leaf=1, min_samples_split=2,\n",
       "            min_weight_fraction_leaf=0.0, n_estimators=10, n_jobs=None,\n",
       "            oob_score=False, random_state=None, verbose=0,\n",
       "            warm_start=False)"
      ]
     },
     "execution_count": 12,
     "metadata": {},
     "output_type": "execute_result"
    }
   ],
   "source": [
    "bestModel = results[0]\n",
    "classifier = eval(bestModel.classifier)()\n",
    "classifier.set_params(**bestModel.parameters)\n",
    "\n",
    "classifier.fit(X_train, Y_train)"
   ]
  },
  {
   "cell_type": "code",
   "execution_count": 13,
   "metadata": {},
   "outputs": [
    {
     "name": "stdout",
     "output_type": "stream",
     "text": [
      "Accuracy: \n",
      " 0.5771812080536913 \n",
      "\n",
      "Confusion matrix: \n",
      " [[  0   0  13   0   0]\n",
      " [  0   0  57   0   0]\n",
      " [  0   0 602   0   0]\n",
      " [  0   0 314   0   0]\n",
      " [  0   0  57   0   0]] \n",
      "\n"
     ]
    }
   ],
   "source": [
    "prediction = classifier.predict(X_test)\n",
    "\n",
    "print(\"Accuracy: \\n\", accuracy_score(Y_test, prediction), '\\n')\n",
    "print(\"Confusion matrix: \\n\", confusion_matrix(Y_test, prediction), '\\n')"
   ]
  }
 ],
 "metadata": {
  "kernelspec": {
   "display_name": "Python 3",
   "language": "python",
   "name": "python3"
  },
  "language_info": {
   "codemirror_mode": {
    "name": "ipython",
    "version": 3
   },
   "file_extension": ".py",
   "mimetype": "text/x-python",
   "name": "python",
   "nbconvert_exporter": "python",
   "pygments_lexer": "ipython3",
   "version": "3.6.7"
  }
 },
 "nbformat": 4,
 "nbformat_minor": 2
}
