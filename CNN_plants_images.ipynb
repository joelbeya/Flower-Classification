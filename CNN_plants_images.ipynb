{
 "cells": [
  {
   "cell_type": "markdown",
   "metadata": {},
   "source": [
    "# Test of different machine learning libraries"
   ]
  },
  {
   "cell_type": "markdown",
   "metadata": {},
   "source": [
    "##  Implementation with Keras"
   ]
  },
  {
   "cell_type": "code",
   "execution_count": 1,
   "metadata": {
    "scrolled": true
   },
   "outputs": [
    {
     "name": "stderr",
     "output_type": "stream",
     "text": [
      "Using TensorFlow backend.\n",
      "/home/chris/.local/lib/python3.6/site-packages/tensorflow/python/framework/dtypes.py:516: FutureWarning: Passing (type, 1) or '1type' as a synonym of type is deprecated; in a future version of numpy, it will be understood as (type, (1,)) / '(1,)type'.\n",
      "  _np_qint8 = np.dtype([(\"qint8\", np.int8, 1)])\n",
      "/home/chris/.local/lib/python3.6/site-packages/tensorflow/python/framework/dtypes.py:517: FutureWarning: Passing (type, 1) or '1type' as a synonym of type is deprecated; in a future version of numpy, it will be understood as (type, (1,)) / '(1,)type'.\n",
      "  _np_quint8 = np.dtype([(\"quint8\", np.uint8, 1)])\n",
      "/home/chris/.local/lib/python3.6/site-packages/tensorflow/python/framework/dtypes.py:518: FutureWarning: Passing (type, 1) or '1type' as a synonym of type is deprecated; in a future version of numpy, it will be understood as (type, (1,)) / '(1,)type'.\n",
      "  _np_qint16 = np.dtype([(\"qint16\", np.int16, 1)])\n",
      "/home/chris/.local/lib/python3.6/site-packages/tensorflow/python/framework/dtypes.py:519: FutureWarning: Passing (type, 1) or '1type' as a synonym of type is deprecated; in a future version of numpy, it will be understood as (type, (1,)) / '(1,)type'.\n",
      "  _np_quint16 = np.dtype([(\"quint16\", np.uint16, 1)])\n",
      "/home/chris/.local/lib/python3.6/site-packages/tensorflow/python/framework/dtypes.py:520: FutureWarning: Passing (type, 1) or '1type' as a synonym of type is deprecated; in a future version of numpy, it will be understood as (type, (1,)) / '(1,)type'.\n",
      "  _np_qint32 = np.dtype([(\"qint32\", np.int32, 1)])\n",
      "/home/chris/.local/lib/python3.6/site-packages/tensorflow/python/framework/dtypes.py:525: FutureWarning: Passing (type, 1) or '1type' as a synonym of type is deprecated; in a future version of numpy, it will be understood as (type, (1,)) / '(1,)type'.\n",
      "  np_resource = np.dtype([(\"resource\", np.ubyte, 1)])\n",
      "/home/chris/.local/lib/python3.6/site-packages/tensorboard/compat/tensorflow_stub/dtypes.py:541: FutureWarning: Passing (type, 1) or '1type' as a synonym of type is deprecated; in a future version of numpy, it will be understood as (type, (1,)) / '(1,)type'.\n",
      "  _np_qint8 = np.dtype([(\"qint8\", np.int8, 1)])\n",
      "/home/chris/.local/lib/python3.6/site-packages/tensorboard/compat/tensorflow_stub/dtypes.py:542: FutureWarning: Passing (type, 1) or '1type' as a synonym of type is deprecated; in a future version of numpy, it will be understood as (type, (1,)) / '(1,)type'.\n",
      "  _np_quint8 = np.dtype([(\"quint8\", np.uint8, 1)])\n",
      "/home/chris/.local/lib/python3.6/site-packages/tensorboard/compat/tensorflow_stub/dtypes.py:543: FutureWarning: Passing (type, 1) or '1type' as a synonym of type is deprecated; in a future version of numpy, it will be understood as (type, (1,)) / '(1,)type'.\n",
      "  _np_qint16 = np.dtype([(\"qint16\", np.int16, 1)])\n",
      "/home/chris/.local/lib/python3.6/site-packages/tensorboard/compat/tensorflow_stub/dtypes.py:544: FutureWarning: Passing (type, 1) or '1type' as a synonym of type is deprecated; in a future version of numpy, it will be understood as (type, (1,)) / '(1,)type'.\n",
      "  _np_quint16 = np.dtype([(\"quint16\", np.uint16, 1)])\n",
      "/home/chris/.local/lib/python3.6/site-packages/tensorboard/compat/tensorflow_stub/dtypes.py:545: FutureWarning: Passing (type, 1) or '1type' as a synonym of type is deprecated; in a future version of numpy, it will be understood as (type, (1,)) / '(1,)type'.\n",
      "  _np_qint32 = np.dtype([(\"qint32\", np.int32, 1)])\n",
      "/home/chris/.local/lib/python3.6/site-packages/tensorboard/compat/tensorflow_stub/dtypes.py:550: FutureWarning: Passing (type, 1) or '1type' as a synonym of type is deprecated; in a future version of numpy, it will be understood as (type, (1,)) / '(1,)type'.\n",
      "  np_resource = np.dtype([(\"resource\", np.ubyte, 1)])\n"
     ]
    }
   ],
   "source": [
    "# useful imports\n",
    "import numpy as np\n",
    "from sklearn import datasets\n",
    "from sklearn.preprocessing import LabelEncoder\n",
    "from sklearn.preprocessing import StandardScaler\n",
    "from sklearn.preprocessing import OneHotEncoder\n",
    "from matplotlib.colors import ListedColormap\n",
    "import matplotlib.pyplot as plt\n",
    "import matplotlib\n",
    "from sklearn.model_selection import train_test_split \n",
    "from sklearn import linear_model\n",
    "from matplotlib.legend_handler import HandlerLine2D\n",
    "import keras\n",
    "from keras.models import Sequential\n",
    "from keras.layers import Dense\n",
    "from keras.utils import np_utils\n",
    "from keras import regularizers\n",
    "from keras.optimizers import SGD\n",
    "from sklearn.metrics import accuracy_score\n",
    "import pandas as pd\n",
    "import seaborn as sns\n",
    "import numpy as np"
   ]
  },
  {
   "cell_type": "markdown",
   "metadata": {},
   "source": [
    "### Activation functions"
   ]
  },
  {
   "cell_type": "code",
   "execution_count": 2,
   "metadata": {},
   "outputs": [],
   "source": [
    "def sigmoid(x):\n",
    "    return 1/(1 + np.exp(-x))\n",
    "\n",
    "def sigmoid_prime(x):\n",
    "    return sigmoid(x)*(1.0 - sigmoid(x))\n",
    "\n",
    "def tanh(x):\n",
    "    return np.tanh(x)\n",
    "\n",
    "def tanh_prime(x):\n",
    "    return 1 - x ** 2\n",
    "\n",
    "def relu(x):\n",
    "    return np.maximum(0,x)\n",
    "\n",
    "def relu_prime(x):\n",
    "    x[x<=0] = 0\n",
    "    x[x>0] = 1\n",
    "    return x\n",
    "\n",
    "def leakyrelu(x):\n",
    "    return np.maximum(0.01,x)\n",
    "\n",
    "def leakyrelu_prime(x):\n",
    "    x[x<=0] = 0.01\n",
    "    x[x>0] = 1\n",
    "    return x\n",
    "\n",
    "def softmax(x):\n",
    "    expx = np.exp(x - np.max(x))\n",
    "    return expx / expx.sum(axis=0, keepdims=True)"
   ]
  },
  {
   "cell_type": "markdown",
   "metadata": {},
   "source": [
    "#### Creation of learning and testing datasets "
   ]
  },
  {
   "cell_type": "markdown",
   "metadata": {},
   "source": [
    "Test with multiclass classification"
   ]
  },
  {
   "cell_type": "code",
   "execution_count": 3,
   "metadata": {},
   "outputs": [],
   "source": [
    "%store -r preprocessed_images\n",
    "X, y = preprocessed_images\n",
    "\n",
    "# mélange des données\n",
    "#df = df.sample(frac=1).reset_index(drop=True)"
   ]
  },
  {
   "cell_type": "code",
   "execution_count": 4,
   "metadata": {
    "scrolled": true
   },
   "outputs": [],
   "source": [
    "# Conversion de la variable à prédire via OneHotEncoder \n",
    "\n",
    "# Integer encode\n",
    "label_encoder = LabelEncoder()\n",
    "integer_encoded = label_encoder.fit_transform(y)\n",
    "\n",
    "# binary encode\n",
    "onehot_encoder = OneHotEncoder(sparse=False,categories='auto')\n",
    "integer_encoded = integer_encoded.reshape(len(integer_encoded), 1)\n",
    "y = onehot_encoder.fit_transform(integer_encoded)"
   ]
  },
  {
   "cell_type": "code",
   "execution_count": 5,
   "metadata": {},
   "outputs": [
    {
     "name": "stdout",
     "output_type": "stream",
     "text": [
      "Shape of X: (3474, 100, 100, 3)\n",
      "Shape of y: (3474, 50)\n"
     ]
    }
   ],
   "source": [
    "# View repartition by species\n",
    "# sns.countplot(y)\n",
    "\n",
    "# And shape\n",
    "print(\"Shape of X:\", X.shape)\n",
    "\n",
    "print(\"Shape of y:\", y.shape)"
   ]
  },
  {
   "cell_type": "code",
   "execution_count": 6,
   "metadata": {},
   "outputs": [
    {
     "name": "stdout",
     "output_type": "stream",
     "text": [
      "Shape of X_train: (2779, 100, 100, 3)\n",
      "Shape of X_test: (695, 100, 100, 3)\n",
      "Shape of y_train: (2779, 50)\n",
      "Shape of y_test: (695, 50) \n",
      "\n"
     ]
    }
   ],
   "source": [
    "# Jeu de test/apprentissage\n",
    "\n",
    "from sklearn.model_selection import train_test_split \n",
    "validation_size=0.8 #20% du jeu de données pour le test\n",
    "\n",
    "testsize= 1-validation_size\n",
    "seed=42\n",
    "# séparation jeu d'apprentissage et jeu de test\n",
    "X_train,X_test,y_train,y_test=train_test_split(X, \n",
    "                                               y,  \n",
    "                                               random_state=seed,\n",
    "                                               test_size=testsize)\n",
    "\n",
    "print(\"Shape of X_train:\", X_train.shape)\n",
    "print(\"Shape of X_test:\", X_test.shape)\n",
    "print(\"Shape of y_train:\", y_train.shape)\n",
    "print(\"Shape of y_test:\", y_test.shape, \"\\n\")"
   ]
  },
  {
   "cell_type": "code",
   "execution_count": 7,
   "metadata": {},
   "outputs": [],
   "source": [
    "import gc\n",
    "del X \n",
    "del y\n",
    "gc.collect()\n",
    "\n",
    "ntrain = len(X_train)\n",
    "nval = len(X_test)\n",
    "\n",
    "batch_size = 32"
   ]
  },
  {
   "cell_type": "code",
   "execution_count": 8,
   "metadata": {},
   "outputs": [],
   "source": [
    "from keras import models\n",
    "from keras import layers\n",
    "from keras import optimizers\n",
    "from keras.preprocessing.image import ImageDataGenerator\n",
    "from keras.preprocessing.image import img_to_array, load_img"
   ]
  },
  {
   "cell_type": "code",
   "execution_count": 9,
   "metadata": {},
   "outputs": [
    {
     "name": "stdout",
     "output_type": "stream",
     "text": [
      "WARNING:tensorflow:From /home/chris/.local/lib/python3.6/site-packages/keras/backend/tensorflow_backend.py:4070: The name tf.nn.max_pool is deprecated. Please use tf.nn.max_pool2d instead.\n",
      "\n"
     ]
    }
   ],
   "source": [
    "# define leakyrelu\n",
    "leakyrelu = lambda x: layers.LeakyReLU(alpha=0.1)(x)\n",
    "\n",
    "model = models.Sequential()\n",
    "model.add(layers.Conv2D(32, (3, 3), activation=leakyrelu, input_shape=(100, 100, 3)))\n",
    "model.add(layers.MaxPooling2D((2,2)))\n",
    "model.add(layers.Conv2D(64, (3, 3), activation=leakyrelu))\n",
    "model.add(layers.MaxPooling2D((2,2)))\n",
    "model.add(layers.Conv2D(128, (3, 3), activation=leakyrelu))\n",
    "model.add(layers.MaxPooling2D((2,2)))\n",
    "model.add(layers.Conv2D(128, (3, 3), activation=leakyrelu))\n",
    "model.add(layers.MaxPooling2D((2,2)))\n",
    "model.add(layers.Flatten())\n",
    "model.add(layers.Dropout(0.5))\n",
    "model.add(layers.Dense(512, activation='relu'))\n",
    "model.add(layers.Dense(50, activation='softmax'))  "
   ]
  },
  {
   "cell_type": "code",
   "execution_count": 10,
   "metadata": {},
   "outputs": [
    {
     "name": "stdout",
     "output_type": "stream",
     "text": [
      "Model: \"sequential_1\"\n",
      "_________________________________________________________________\n",
      "Layer (type)                 Output Shape              Param #   \n",
      "=================================================================\n",
      "conv2d_1 (Conv2D)            (None, 98, 98, 32)        896       \n",
      "_________________________________________________________________\n",
      "max_pooling2d_1 (MaxPooling2 (None, 49, 49, 32)        0         \n",
      "_________________________________________________________________\n",
      "conv2d_2 (Conv2D)            (None, 47, 47, 64)        18496     \n",
      "_________________________________________________________________\n",
      "max_pooling2d_2 (MaxPooling2 (None, 23, 23, 64)        0         \n",
      "_________________________________________________________________\n",
      "conv2d_3 (Conv2D)            (None, 21, 21, 128)       73856     \n",
      "_________________________________________________________________\n",
      "max_pooling2d_3 (MaxPooling2 (None, 10, 10, 128)       0         \n",
      "_________________________________________________________________\n",
      "conv2d_4 (Conv2D)            (None, 8, 8, 128)         147584    \n",
      "_________________________________________________________________\n",
      "max_pooling2d_4 (MaxPooling2 (None, 4, 4, 128)         0         \n",
      "_________________________________________________________________\n",
      "flatten_1 (Flatten)          (None, 2048)              0         \n",
      "_________________________________________________________________\n",
      "dropout_1 (Dropout)          (None, 2048)              0         \n",
      "_________________________________________________________________\n",
      "dense_1 (Dense)              (None, 512)               1049088   \n",
      "_________________________________________________________________\n",
      "dense_2 (Dense)              (None, 50)                25650     \n",
      "=================================================================\n",
      "Total params: 1,315,570\n",
      "Trainable params: 1,315,570\n",
      "Non-trainable params: 0\n",
      "_________________________________________________________________\n"
     ]
    }
   ],
   "source": [
    "# Check the model\n",
    "model.summary()"
   ]
  },
  {
   "cell_type": "code",
   "execution_count": 11,
   "metadata": {},
   "outputs": [],
   "source": [
    "model.compile(loss='categorical_crossentropy', optimizer='adam', metrics=['acc'])"
   ]
  },
  {
   "cell_type": "code",
   "execution_count": 12,
   "metadata": {},
   "outputs": [],
   "source": [
    "train_datagen = ImageDataGenerator(rescale=1./255,\n",
    "                                  rotation_range=40,\n",
    "                                  width_shift_range=0.2,\n",
    "                                  height_shift_range=0.2,\n",
    "                                  shear_range=0.2,\n",
    "                                  zoom_range=0.2,\n",
    "                                  horizontal_flip=True)\n",
    "\n",
    "val_datagen = ImageDataGenerator(rescale=1./255)"
   ]
  },
  {
   "cell_type": "code",
   "execution_count": 13,
   "metadata": {},
   "outputs": [],
   "source": [
    "train_generator = train_datagen.flow(X_train, y_train, batch_size=batch_size)\n",
    "val_generator = val_datagen.flow(X_test, y_test, batch_size=batch_size)"
   ]
  },
  {
   "cell_type": "code",
   "execution_count": 14,
   "metadata": {
    "scrolled": false
   },
   "outputs": [
    {
     "name": "stdout",
     "output_type": "stream",
     "text": [
      "WARNING:tensorflow:From /home/chris/.local/lib/python3.6/site-packages/keras/backend/tensorflow_backend.py:422: The name tf.global_variables is deprecated. Please use tf.compat.v1.global_variables instead.\n",
      "\n",
      "Epoch 1/64\n",
      "86/86 [==============================] - 23s 269ms/step - loss: 3.6373 - acc: 0.0728 - val_loss: 3.3921 - val_acc: 0.1369\n",
      "Epoch 2/64\n",
      "86/86 [==============================] - 23s 265ms/step - loss: 3.1406 - acc: 0.1391 - val_loss: 3.3028 - val_acc: 0.1825\n",
      "Epoch 3/64\n",
      "86/86 [==============================] - 24s 279ms/step - loss: 2.8295 - acc: 0.2082 - val_loss: 1.9936 - val_acc: 0.3077\n",
      "Epoch 4/64\n",
      "86/86 [==============================] - 24s 277ms/step - loss: 2.4914 - acc: 0.2756 - val_loss: 2.4865 - val_acc: 0.3167\n",
      "Epoch 5/64\n",
      "86/86 [==============================] - 24s 275ms/step - loss: 2.2972 - acc: 0.3127 - val_loss: 1.8191 - val_acc: 0.4133\n",
      "Epoch 6/64\n",
      "86/86 [==============================] - 24s 279ms/step - loss: 2.1654 - acc: 0.3466 - val_loss: 2.3984 - val_acc: 0.3771\n",
      "Epoch 7/64\n",
      "86/86 [==============================] - 24s 279ms/step - loss: 2.0145 - acc: 0.3801 - val_loss: 1.4995 - val_acc: 0.4510\n",
      "Epoch 8/64\n",
      "86/86 [==============================] - 24s 277ms/step - loss: 1.8693 - acc: 0.4205 - val_loss: 2.3922 - val_acc: 0.4842\n",
      "Epoch 9/64\n",
      "86/86 [==============================] - 24s 278ms/step - loss: 1.7944 - acc: 0.4470 - val_loss: 1.5605 - val_acc: 0.4510\n",
      "Epoch 10/64\n",
      "86/86 [==============================] - 24s 282ms/step - loss: 1.6804 - acc: 0.4904 - val_loss: 1.8696 - val_acc: 0.5354\n",
      "Epoch 11/64\n",
      "86/86 [==============================] - 24s 278ms/step - loss: 1.6554 - acc: 0.4951 - val_loss: 1.5091 - val_acc: 0.5264\n",
      "Epoch 12/64\n",
      "86/86 [==============================] - 24s 277ms/step - loss: 1.5503 - acc: 0.5071 - val_loss: 1.4924 - val_acc: 0.5008\n",
      "Epoch 13/64\n",
      "86/86 [==============================] - 24s 278ms/step - loss: 1.4955 - acc: 0.5337 - val_loss: 1.5382 - val_acc: 0.5173\n",
      "Epoch 14/64\n",
      "86/86 [==============================] - 25s 286ms/step - loss: 1.4262 - acc: 0.5504 - val_loss: 1.6132 - val_acc: 0.5264\n",
      "Epoch 15/64\n",
      "86/86 [==============================] - 25s 290ms/step - loss: 1.4166 - acc: 0.5440 - val_loss: 1.4785 - val_acc: 0.5445\n",
      "Epoch 16/64\n",
      "86/86 [==============================] - 25s 291ms/step - loss: 1.3079 - acc: 0.5828 - val_loss: 1.6041 - val_acc: 0.5234\n",
      "Epoch 17/64\n",
      "86/86 [==============================] - 25s 289ms/step - loss: 1.3247 - acc: 0.5789 - val_loss: 1.6407 - val_acc: 0.5520\n",
      "Epoch 18/64\n",
      "86/86 [==============================] - 25s 287ms/step - loss: 1.2381 - acc: 0.6010 - val_loss: 1.6828 - val_acc: 0.6094\n",
      "Epoch 19/64\n",
      "86/86 [==============================] - 24s 277ms/step - loss: 1.2265 - acc: 0.5996 - val_loss: 1.5502 - val_acc: 0.5792\n",
      "Epoch 20/64\n",
      "86/86 [==============================] - 24s 277ms/step - loss: 1.1648 - acc: 0.6229 - val_loss: 1.7367 - val_acc: 0.5716\n",
      "Epoch 21/64\n",
      "86/86 [==============================] - 24s 278ms/step - loss: 1.2260 - acc: 0.5992 - val_loss: 0.7718 - val_acc: 0.6214\n",
      "Epoch 22/64\n",
      "86/86 [==============================] - 27s 308ms/step - loss: 1.1562 - acc: 0.6254 - val_loss: 1.6578 - val_acc: 0.5732\n",
      "Epoch 23/64\n",
      "86/86 [==============================] - 26s 299ms/step - loss: 1.0844 - acc: 0.6542 - val_loss: 0.9220 - val_acc: 0.6369\n",
      "Epoch 24/64\n",
      "86/86 [==============================] - 25s 286ms/step - loss: 1.0248 - acc: 0.6618 - val_loss: 1.9240 - val_acc: 0.6048\n",
      "Epoch 25/64\n",
      "86/86 [==============================] - 27s 312ms/step - loss: 1.0209 - acc: 0.6635 - val_loss: 1.6755 - val_acc: 0.5897\n",
      "Epoch 26/64\n",
      "86/86 [==============================] - 25s 293ms/step - loss: 1.0127 - acc: 0.6637 - val_loss: 0.8526 - val_acc: 0.5792\n",
      "Epoch 27/64\n",
      "86/86 [==============================] - 25s 291ms/step - loss: 0.9808 - acc: 0.6860 - val_loss: 0.7468 - val_acc: 0.6290\n",
      "Epoch 28/64\n",
      "86/86 [==============================] - 26s 305ms/step - loss: 0.9732 - acc: 0.6805 - val_loss: 1.9020 - val_acc: 0.5475\n",
      "Epoch 29/64\n",
      "86/86 [==============================] - 26s 302ms/step - loss: 0.9269 - acc: 0.6940 - val_loss: 1.0504 - val_acc: 0.6561\n",
      "Epoch 30/64\n",
      "86/86 [==============================] - 26s 306ms/step - loss: 0.8708 - acc: 0.7108 - val_loss: 1.2022 - val_acc: 0.6621\n",
      "Epoch 31/64\n",
      "86/86 [==============================] - 25s 289ms/step - loss: 0.8346 - acc: 0.7241 - val_loss: 0.7780 - val_acc: 0.5852\n",
      "Epoch 32/64\n",
      "86/86 [==============================] - 29s 334ms/step - loss: 0.8625 - acc: 0.7142 - val_loss: 2.0134 - val_acc: 0.6275\n",
      "Epoch 33/64\n",
      "86/86 [==============================] - 32s 372ms/step - loss: 0.8489 - acc: 0.7215 - val_loss: 1.4757 - val_acc: 0.6244\n",
      "Epoch 34/64\n",
      "86/86 [==============================] - 25s 286ms/step - loss: 0.7788 - acc: 0.7437 - val_loss: 1.1828 - val_acc: 0.6606\n",
      "Epoch 35/64\n",
      "86/86 [==============================] - 25s 293ms/step - loss: 0.8375 - acc: 0.7212 - val_loss: 0.9503 - val_acc: 0.6395\n",
      "Epoch 36/64\n",
      "86/86 [==============================] - 26s 304ms/step - loss: 0.7634 - acc: 0.7496 - val_loss: 1.6053 - val_acc: 0.6456\n",
      "Epoch 37/64\n",
      "86/86 [==============================] - 27s 309ms/step - loss: 0.7672 - acc: 0.7465 - val_loss: 2.4393 - val_acc: 0.5716\n",
      "Epoch 38/64\n",
      "86/86 [==============================] - 27s 317ms/step - loss: 0.7915 - acc: 0.7300 - val_loss: 2.1788 - val_acc: 0.6199\n",
      "Epoch 39/64\n",
      "86/86 [==============================] - 25s 294ms/step - loss: 0.7628 - acc: 0.7480 - val_loss: 1.6486 - val_acc: 0.6229\n",
      "Epoch 40/64\n",
      "86/86 [==============================] - 24s 284ms/step - loss: 0.7180 - acc: 0.7506 - val_loss: 1.7127 - val_acc: 0.6335\n",
      "Epoch 41/64\n",
      "86/86 [==============================] - 25s 295ms/step - loss: 0.7367 - acc: 0.7598 - val_loss: 1.2664 - val_acc: 0.6169\n",
      "Epoch 42/64\n",
      "86/86 [==============================] - 26s 308ms/step - loss: 0.7301 - acc: 0.7465 - val_loss: 2.5770 - val_acc: 0.6275\n",
      "Epoch 43/64\n",
      "86/86 [==============================] - 26s 307ms/step - loss: 0.6494 - acc: 0.7809 - val_loss: 2.5455 - val_acc: 0.6486\n",
      "Epoch 44/64\n",
      "86/86 [==============================] - 26s 304ms/step - loss: 0.7169 - acc: 0.7630 - val_loss: 2.0630 - val_acc: 0.6109\n",
      "Epoch 45/64\n",
      "86/86 [==============================] - 25s 286ms/step - loss: 0.6750 - acc: 0.7885 - val_loss: 1.9398 - val_acc: 0.6235\n",
      "Epoch 46/64\n",
      "86/86 [==============================] - 26s 305ms/step - loss: 0.6709 - acc: 0.7740 - val_loss: 1.5031 - val_acc: 0.6998\n",
      "Epoch 47/64\n",
      "86/86 [==============================] - 26s 297ms/step - loss: 0.6345 - acc: 0.7848 - val_loss: 2.0389 - val_acc: 0.6621\n",
      "Epoch 48/64\n",
      "86/86 [==============================] - 25s 290ms/step - loss: 0.5957 - acc: 0.8034 - val_loss: 0.7774 - val_acc: 0.6787\n",
      "Epoch 49/64\n",
      "86/86 [==============================] - 26s 305ms/step - loss: 0.6130 - acc: 0.7983 - val_loss: 2.0330 - val_acc: 0.6259\n",
      "Epoch 50/64\n",
      "86/86 [==============================] - 27s 312ms/step - loss: 0.5993 - acc: 0.7976 - val_loss: 1.2621 - val_acc: 0.6486\n",
      "Epoch 51/64\n",
      "86/86 [==============================] - 27s 308ms/step - loss: 0.5729 - acc: 0.8045 - val_loss: 1.6029 - val_acc: 0.6395\n",
      "Epoch 52/64\n",
      "86/86 [==============================] - 26s 307ms/step - loss: 0.5797 - acc: 0.8016 - val_loss: 2.4813 - val_acc: 0.6410\n",
      "Epoch 53/64\n",
      "86/86 [==============================] - 25s 292ms/step - loss: 0.5320 - acc: 0.8151 - val_loss: 2.1639 - val_acc: 0.6305\n",
      "Epoch 54/64\n",
      "86/86 [==============================] - 25s 296ms/step - loss: 0.5974 - acc: 0.7925 - val_loss: 1.8280 - val_acc: 0.6139\n",
      "Epoch 55/64\n",
      "86/86 [==============================] - 25s 286ms/step - loss: 0.5496 - acc: 0.8132 - val_loss: 0.8836 - val_acc: 0.6998\n",
      "Epoch 56/64\n",
      "86/86 [==============================] - 25s 286ms/step - loss: 0.6255 - acc: 0.7845 - val_loss: 2.0664 - val_acc: 0.6516\n",
      "Epoch 57/64\n",
      "86/86 [==============================] - 25s 292ms/step - loss: 0.5406 - acc: 0.8129 - val_loss: 1.8777 - val_acc: 0.6621\n",
      "Epoch 58/64\n",
      "86/86 [==============================] - 24s 280ms/step - loss: 0.4935 - acc: 0.8304 - val_loss: 3.7927 - val_acc: 0.6003\n",
      "Epoch 59/64\n",
      "86/86 [==============================] - 27s 316ms/step - loss: 0.5452 - acc: 0.8172 - val_loss: 2.0010 - val_acc: 0.6033\n",
      "Epoch 60/64\n",
      "86/86 [==============================] - 26s 298ms/step - loss: 0.5360 - acc: 0.8227 - val_loss: 1.6765 - val_acc: 0.6124\n",
      "Epoch 61/64\n",
      "86/86 [==============================] - 26s 299ms/step - loss: 0.5651 - acc: 0.8166 - val_loss: 0.8788 - val_acc: 0.6938\n",
      "Epoch 62/64\n",
      "86/86 [==============================] - 25s 293ms/step - loss: 0.5029 - acc: 0.8263 - val_loss: 2.0672 - val_acc: 0.6290\n",
      "Epoch 63/64\n",
      "86/86 [==============================] - 24s 282ms/step - loss: 0.5143 - acc: 0.8341 - val_loss: 1.9297 - val_acc: 0.6501\n",
      "Epoch 64/64\n",
      "86/86 [==============================] - 26s 300ms/step - loss: 0.5014 - acc: 0.8332 - val_loss: 1.6449 - val_acc: 0.6848\n"
     ]
    }
   ],
   "source": [
    "history = model.fit_generator(train_generator,\n",
    "                             steps_per_epoch=ntrain // batch_size,\n",
    "                             epochs=64,\n",
    "                             validation_data=val_generator,\n",
    "                             validation_steps=nval // batch_size)"
   ]
  },
  {
   "cell_type": "code",
   "execution_count": 29,
   "metadata": {},
   "outputs": [],
   "source": [
    "#Save the model\n",
    "model.save_weights('model_wieghts.h5')\n",
    "model.save('model_keras.h5')"
   ]
  },
  {
   "cell_type": "code",
   "execution_count": 15,
   "metadata": {},
   "outputs": [
    {
     "data": {
      "text/plain": [
       "<matplotlib.legend.Legend at 0x7f01fc392668>"
      ]
     },
     "execution_count": 15,
     "metadata": {},
     "output_type": "execute_result"
    },
    {
     "data": {
      "image/png": "[encoded data removed]",
      "text/plain": [
       "<Figure size 432x288 with 1 Axes>"
      ]
     },
     "metadata": {},
     "output_type": "display_data"
    },
    {
     "data": {
      "image/png": "[encoded data removed]",
      "text/plain": [
       "<Figure size 432x288 with 1 Axes>"
      ]
     },
     "metadata": {},
     "output_type": "display_data"
    }
   ],
   "source": [
    "acc = history.history['acc']\n",
    "val_acc = history.history['val_acc']\n",
    "loss = history.history['loss']\n",
    "val_loss = history.history['val_loss']\n",
    "\n",
    "epochs = range(1, len(acc) + 1)\n",
    "\n",
    "plt.plot(epochs, acc, 'b', label='Training accuracy')\n",
    "plt.plot(epochs, val_acc, 'r', label='Validation accuracy')\n",
    "plt.title('Training and validation accuracy')\n",
    "plt.legend()\n",
    "\n",
    "plt.figure()\n",
    "plt.plot(epochs, loss, 'b', label='Training loss')\n",
    "plt.plot(epochs, val_loss, 'r', label='Validation loss')\n",
    "plt.title('Training and validation loss')\n",
    "plt.legend()\n"
   ]
  },
  {
   "cell_type": "code",
   "execution_count": null,
   "metadata": {},
   "outputs": [],
   "source": []
  }
 ],
 "metadata": {
  "kernelspec": {
   "display_name": "Python 3",
   "language": "python",
   "name": "python3"
  },
  "language_info": {
   "codemirror_mode": {
    "name": "ipython",
    "version": 3
   },
   "file_extension": ".py",
   "mimetype": "text/x-python",
   "name": "python",
   "nbconvert_exporter": "python",
   "pygments_lexer": "ipython3",
   "version": "3.6.7"
  }
 },
 "nbformat": 4,
 "nbformat_minor": 2
}
